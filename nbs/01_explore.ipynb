{
 "cells": [
  {
   "cell_type": "raw",
   "metadata": {},
   "source": [
    "---\n",
    "description: Explore the data and metadata\n",
    "output-file: explore.html\n",
    "title: explore\n",
    "---"
   ]
  },
  {
   "cell_type": "code",
   "execution_count": null,
   "metadata": {},
   "outputs": [],
   "source": [
    "#| default_exp explore"
   ]
  },
  {
   "cell_type": "code",
   "execution_count": null,
   "metadata": {},
   "outputs": [],
   "source": [
    "%load_ext autoreload\n",
    "%autoreload 2"
   ]
  },
  {
   "cell_type": "code",
   "execution_count": null,
   "metadata": {},
   "outputs": [],
   "source": [
    "#| hide\n",
    "from nbdev.showdoc import *\n",
    "from nbdev import nbdev_export"
   ]
  },
  {
   "cell_type": "code",
   "execution_count": null,
   "metadata": {},
   "outputs": [],
   "source": [
    "#| export\n",
    "from pain.read import *\n",
    "from pathlib import Path\n",
    "import polars as pl\n",
    "import regex as re"
   ]
  },
  {
   "cell_type": "code",
   "execution_count": null,
   "metadata": {},
   "outputs": [],
   "source": [
    "data_dir = Path(\"../data/raw\")\n",
    "datasets = [\n",
    "    Dataset(\"G214_PQ.sav\", data_dir, \"G214_PQ_\", [\"ID\", \"G214_PQ_PN17\", \"G214_PQ_PN25\", \"G214_PQ_PN34\", \"G214_PQ_PN35\", \"G214_PQ_PN36\"]),\n",
    "    Dataset(\"G214_SQ.sav\", data_dir, \"G214_SQ_\", [\"ID\", \"G214_SQ_PN17\", \"G214_SQ_PN25\", \"G214_SQ_PN34\", \"G214_SQ_PN35\", \"G214_SQ_PN36\"]),\n",
    "    Dataset(\"G217_PQ.sav\", data_dir, \"G217_PQ_\", [\"ID\", \"G217_PQ_PN17\", \"G217_PQ_PN25\", \"G217_PQ_PN34\", \"G217_PQ_PN35\", \"G217_PQ_PN36\", \"G217_PQ_PN38\", \"G217_PQ_PN9\"]),\n",
    "    Dataset(\"G217_SQ.sav\", data_dir, \"G217_SQ_\", [\"ID\", \"G217_SQ_PN17\", \"G217_SQ_PN25\", \"G217_SQ_PN34\", \"G217_SQ_PN35\", \"G217_SQ_PN36\", \"G217_SQ_PN38\", \"G217_SQ_PN9\"])\n",
    "]\n",
    "dataframes, metadata = read_and_filter_data(datasets)\n",
    "merged_df = combine_dataframes(dataframes)\n",
    "merged_metadata = merge_dictionaries(metadata)"
   ]
  },
  {
   "cell_type": "markdown",
   "metadata": {},
   "source": [
    "Define a function which takes a string and outputs a dictionary of the unique values for all columns that match that string."
   ]
  },
  {
   "cell_type": "code",
   "execution_count": null,
   "metadata": {},
   "outputs": [],
   "source": [
    "#| export\n",
    "def filter_columns(pattern: str,\n",
    "                   columns: list[str]\n",
    "                   ) -> list[str]:\n",
    "    \"Return a list of all columns that match a given regex pattern.\"\n",
    "    return [col for col in columns if re.search(pattern, col) is not None]\n",
    "\n",
    "def unpack_unique_values(df: pl.LazyFrame,\n",
    "                         col: str\n",
    "                         ) -> tuple[str|int|float]:\n",
    "    \"Return a tuple of the unique values for a given column in a dataframe.\"\n",
    "    [vals] = df.select(pl.col(col).unique()).collect().to_dict(as_series=False).values()\n",
    "    return tuple(vals)\n",
    "\n",
    "def unique_values(df: pl.LazyFrame,\n",
    "                  pattern: str\n",
    "                  ) -> dict[str, set]:\n",
    "    \"Output a tuple of the unique values for each column in a given dataframe that matches the pattern.\"\n",
    "    filtered_columns = filter_columns(pattern, df.collect_schema().names())\n",
    "    return {col: unpack_unique_values(df, col) for col in filtered_columns} "
   ]
  },
  {
   "cell_type": "code",
   "execution_count": null,
   "metadata": {},
   "outputs": [
    {
     "data": {
      "text/plain": [
       "{'G217_PQ_PN38': (None, 0.0, 1.0, 7.0, 9.0),\n",
       " 'G217_SQ_PN38': (None, 0.0, 1.0, 9.0)}"
      ]
     },
     "execution_count": null,
     "metadata": {},
     "output_type": "execute_result"
    }
   ],
   "source": [
    "unique_values(merged_df, \"PN38\")"
   ]
  },
  {
   "cell_type": "markdown",
   "metadata": {},
   "source": [
    "Now define a function to explore the metadata for a particular variable across datasets.\n",
    "It should again take a string, and return a nested dictionary."
   ]
  },
  {
   "cell_type": "code",
   "execution_count": null,
   "metadata": {},
   "outputs": [],
   "source": [
    "#| export\n",
    "from collections import defaultdict\n",
    "from typing import Any\n",
    "import pandas as pd"
   ]
  },
  {
   "cell_type": "code",
   "execution_count": null,
   "metadata": {},
   "outputs": [],
   "source": [
    "#| export\n",
    "def _filter_metadata(m: dict[dict[str, Any]], # metadata nested dict\n",
    "                    cols: list[str] # list of columns to filter metadata\n",
    "                    ) -> dict[dict[str, Any]]:\n",
    "    \"Filter metadata from a dataset for the given columns.\"\n",
    "    d = defaultdict(dict)\n",
    "\n",
    "    for key, nested_dicts in m.items():\n",
    "        for nested_key, value in nested_dicts.items():\n",
    "            if nested_key in cols:\n",
    "                d[key][nested_key] = value\n",
    "\n",
    "    return d\n",
    "\n",
    "def filter_metadata(pattern: str, # string or regex to filter columns,\n",
    "                    df: pl.LazyFrame, # merged dataframe,\n",
    "                    m: dict[dict[str, Any]] # merged metadata\n",
    "                    ) -> dict[dict[str, Any]]:\n",
    "    \"Filter metadata for given columns that match the provided pattern.\"\n",
    "    cols = df.collect_schema().names()\n",
    "    filtered_columns = filter_columns(pattern, cols)\n",
    "    filtered_metadata = _filter_metadata(m, filtered_columns)\n",
    "    return filtered_metadata"
   ]
  },
  {
   "cell_type": "code",
   "execution_count": null,
   "metadata": {},
   "outputs": [
    {
     "data": {
      "application/vnd.microsoft.datawrangler.viewer.v0+json": {
       "columns": [
        {
         "name": "index",
         "rawType": "object",
         "type": "string"
        },
        {
         "name": "G214_PQ_PN25",
         "rawType": "object",
         "type": "unknown"
        },
        {
         "name": "G214_SQ_PN25",
         "rawType": "object",
         "type": "unknown"
        },
        {
         "name": "G217_PQ_PN25",
         "rawType": "object",
         "type": "unknown"
        },
        {
         "name": "G217_SQ_PN25",
         "rawType": "object",
         "type": "unknown"
        }
       ],
       "conversionMethod": "pd.DataFrame",
       "ref": "41311aa5-9a55-4786-a8be-4a5b5a5501a0",
       "rows": [
        [
         "Label",
         "Seek pro advice for back pain",
         "Seek pro advice for back pain",
         "Ever sought health professional advice/treatment for back pain",
         "Seek treatment for back pain?"
        ],
        [
         "Field Type",
         "Numeric",
         "Numeric",
         "Numeric",
         "Numeric"
        ],
        [
         "Field Width",
         "8",
         "8",
         "8",
         "8"
        ],
        [
         "Decimals",
         "0",
         "0",
         "0",
         "0"
        ],
        [
         "Variable Type",
         "scale",
         "scale",
         "scale",
         "scale"
        ],
        [
         "Field Values",
         "{0.0: 'No', 1.0: 'Yes', 8.0: 'Not applicable', 9.0: 'Not stated'}",
         "{0.0: 'No', 1.0: 'Yes', 8.0: 'Not applicable', 9.0: 'Not stated'}",
         "{0.0: 'No', 1.0: 'Yes', 7.0: 'Involved in incorrect skip - not answered', 9.0: 'Not stated'}",
         "{0.0: 'No', 1.0: 'Yes', 9.0: 'Not stated'}"
        ]
       ],
       "shape": {
        "columns": 4,
        "rows": 6
       }
      },
      "text/html": [
       "<div>\n",
       "<style scoped>\n",
       "    .dataframe tbody tr th:only-of-type {\n",
       "        vertical-align: middle;\n",
       "    }\n",
       "\n",
       "    .dataframe tbody tr th {\n",
       "        vertical-align: top;\n",
       "    }\n",
       "\n",
       "    .dataframe thead th {\n",
       "        text-align: right;\n",
       "    }\n",
       "</style>\n",
       "<table border=\"1\" class=\"dataframe\">\n",
       "  <thead>\n",
       "    <tr style=\"text-align: right;\">\n",
       "      <th></th>\n",
       "      <th>G214_PQ_PN25</th>\n",
       "      <th>G214_SQ_PN25</th>\n",
       "      <th>G217_PQ_PN25</th>\n",
       "      <th>G217_SQ_PN25</th>\n",
       "    </tr>\n",
       "  </thead>\n",
       "  <tbody>\n",
       "    <tr>\n",
       "      <th>Label</th>\n",
       "      <td>Seek pro advice for back pain</td>\n",
       "      <td>Seek pro advice for back pain</td>\n",
       "      <td>Ever sought health professional advice/treatme...</td>\n",
       "      <td>Seek treatment for back pain?</td>\n",
       "    </tr>\n",
       "    <tr>\n",
       "      <th>Field Type</th>\n",
       "      <td>Numeric</td>\n",
       "      <td>Numeric</td>\n",
       "      <td>Numeric</td>\n",
       "      <td>Numeric</td>\n",
       "    </tr>\n",
       "    <tr>\n",
       "      <th>Field Width</th>\n",
       "      <td>8</td>\n",
       "      <td>8</td>\n",
       "      <td>8</td>\n",
       "      <td>8</td>\n",
       "    </tr>\n",
       "    <tr>\n",
       "      <th>Decimals</th>\n",
       "      <td>0</td>\n",
       "      <td>0</td>\n",
       "      <td>0</td>\n",
       "      <td>0</td>\n",
       "    </tr>\n",
       "    <tr>\n",
       "      <th>Variable Type</th>\n",
       "      <td>scale</td>\n",
       "      <td>scale</td>\n",
       "      <td>scale</td>\n",
       "      <td>scale</td>\n",
       "    </tr>\n",
       "    <tr>\n",
       "      <th>Field Values</th>\n",
       "      <td>{0.0: 'No', 1.0: 'Yes', 8.0: 'Not applicable',...</td>\n",
       "      <td>{0.0: 'No', 1.0: 'Yes', 8.0: 'Not applicable',...</td>\n",
       "      <td>{0.0: 'No', 1.0: 'Yes', 7.0: 'Involved in inco...</td>\n",
       "      <td>{0.0: 'No', 1.0: 'Yes', 9.0: 'Not stated'}</td>\n",
       "    </tr>\n",
       "  </tbody>\n",
       "</table>\n",
       "</div>"
      ],
      "text/plain": [
       "                                                    G214_PQ_PN25  \\\n",
       "Label                              Seek pro advice for back pain   \n",
       "Field Type                                               Numeric   \n",
       "Field Width                                                    8   \n",
       "Decimals                                                       0   \n",
       "Variable Type                                              scale   \n",
       "Field Values   {0.0: 'No', 1.0: 'Yes', 8.0: 'Not applicable',...   \n",
       "\n",
       "                                                    G214_SQ_PN25  \\\n",
       "Label                              Seek pro advice for back pain   \n",
       "Field Type                                               Numeric   \n",
       "Field Width                                                    8   \n",
       "Decimals                                                       0   \n",
       "Variable Type                                              scale   \n",
       "Field Values   {0.0: 'No', 1.0: 'Yes', 8.0: 'Not applicable',...   \n",
       "\n",
       "                                                    G217_PQ_PN25  \\\n",
       "Label          Ever sought health professional advice/treatme...   \n",
       "Field Type                                               Numeric   \n",
       "Field Width                                                    8   \n",
       "Decimals                                                       0   \n",
       "Variable Type                                              scale   \n",
       "Field Values   {0.0: 'No', 1.0: 'Yes', 7.0: 'Involved in inco...   \n",
       "\n",
       "                                             G217_SQ_PN25  \n",
       "Label                       Seek treatment for back pain?  \n",
       "Field Type                                        Numeric  \n",
       "Field Width                                             8  \n",
       "Decimals                                                0  \n",
       "Variable Type                                       scale  \n",
       "Field Values   {0.0: 'No', 1.0: 'Yes', 9.0: 'Not stated'}  "
      ]
     },
     "execution_count": null,
     "metadata": {},
     "output_type": "execute_result"
    }
   ],
   "source": [
    "pattern = \"PN25\"\n",
    "filtered_metadata = filter_metadata(pattern, merged_df, merged_metadata)\n",
    "pd.DataFrame(filtered_metadata).T"
   ]
  },
  {
   "cell_type": "code",
   "execution_count": null,
   "metadata": {},
   "outputs": [],
   "source": [
    "#| hide\n",
    "nbdev_export()"
   ]
  }
 ],
 "metadata": {
  "kernelspec": {
   "display_name": "python3",
   "language": "python",
   "name": "python3"
  }
 },
 "nbformat": 4,
 "nbformat_minor": 4
}
